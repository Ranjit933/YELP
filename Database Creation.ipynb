{
 "cells": [
  {
   "cell_type": "markdown",
   "id": "807e4a50-cd58-4e64-99cc-9002ba27e8ca",
   "metadata": {},
   "source": [
    "# Database Creation"
   ]
  },
  {
   "cell_type": "code",
   "execution_count": 1,
   "id": "e350d5c2-8ddf-4999-abf8-3748bdf47f1d",
   "metadata": {},
   "outputs": [],
   "source": [
    "import pandas as pd\n",
    "import json\n",
    "from sqlalchemy import create_engine"
   ]
  },
  {
   "cell_type": "code",
   "execution_count": 5,
   "id": "3cdf9e1b-4784-402e-9637-043ad90733cd",
   "metadata": {},
   "outputs": [],
   "source": [
    "with open('yelp_academic_dataset_business.json', 'r', encoding='utf-8') as f:\n",
    "    business_data = [json.loads(line) for line in f]\n",
    "business_df = pd.DataFrame(business_data)\n",
    "\n",
    "with open('yelp_academic_dataset_checkin.json','r') as f:\n",
    "    checkin_data = [json.loads(line) for line in f]\n",
    "checkin_df = pd.DataFrame(checkin_data)\n"
   ]
  },
  {
   "cell_type": "code",
   "execution_count": 7,
   "id": "944e4207-cb9c-4f3c-87af-97d4ff5740c3",
   "metadata": {},
   "outputs": [],
   "source": [
    "with open('yelp_academic_dataset_tip.json','r',encoding='utf-8') as f:\n",
    "    tip_data = [json.loads(line) for line in f]\n",
    "tip_df = pd.DataFrame(tip_data)\n"
   ]
  },
  {
   "cell_type": "code",
   "execution_count": 9,
   "id": "25649773-e0f1-40a7-a5ef-4023490be1a0",
   "metadata": {},
   "outputs": [],
   "source": [
    "with open('yelp_academic_dataset_user.json','r',encoding='utf-8') as f:\n",
    "    user_data = [json.loads(line) for line in f]\n",
    "user_df = pd.DataFrame(user_data)"
   ]
  },
  {
   "cell_type": "code",
   "execution_count": 3,
   "id": "06111d70-5007-4a68-88b6-9471f4786918",
   "metadata": {},
   "outputs": [
    {
     "name": "stdout",
     "output_type": "stream",
     "text": [
      "Total number of reviews: 100000\n"
     ]
    }
   ],
   "source": [
    "import pandas as pd\n",
    "import dask.dataframe as dd\n",
    "\n",
    "# Load a manageable sample using Pandas\n",
    "df = pd.read_json('yelp_academic_dataset_review.json', lines=True, nrows=100000)\n",
    "\n",
    "# Save as Parquet for efficient future access\n",
    "df.to_parquet('yelp_reviews.parquet')\n",
    "\n",
    "# Now load the Parquet file with Dask\n",
    "review_df = dd.read_parquet('yelp_reviews.parquet')\n",
    "\n",
    "# Example processing: compute the number of reviews\n",
    "total_reviews = review_df.shape[0].compute()\n",
    "print(f'Total number of reviews: {total_reviews}')\n"
   ]
  },
  {
   "cell_type": "code",
   "execution_count": 11,
   "id": "d98c7d63-4ae8-4041-9b95-048bc21f5c6e",
   "metadata": {},
   "outputs": [
    {
     "name": "stdout",
     "output_type": "stream",
     "text": [
      "(150346, 14)\n",
      "(131930, 2)\n",
      "(<dask_expr.expr.Scalar: expr=ReadParquetFSSpec(32d3e87).size() // 9, dtype=int32>, 9)\n",
      "(908915, 5)\n",
      "(1987897, 22)\n"
     ]
    }
   ],
   "source": [
    "print(business_df.shape)\n",
    "print(checkin_df.shape)\n",
    "print(review_df.shape)\n",
    "print(tip_df.shape)\n",
    "print(user_df.shape)"
   ]
  },
  {
   "cell_type": "code",
   "execution_count": 13,
   "id": "7ddac6ed-5054-4f31-9b79-ba60eb09c7e2",
   "metadata": {},
   "outputs": [],
   "source": [
    "business_df.drop(['attributes','hours'],axis = 1, inplace = True)"
   ]
  },
  {
   "cell_type": "code",
   "execution_count": 3,
   "id": "ff1a9e0e-f3f6-46ab-8e51-fc242b901006",
   "metadata": {},
   "outputs": [],
   "source": [
    "import dask.dataframe as dd\n",
    "from sqlalchemy import create_engine\n",
    "\n",
    "# Create a SQLAlchemy engine for SQLite\n",
    "engine = create_engine('sqlite:///Yelp.db')\n",
    "\n",
    "def load_dataframe(df, table_name, engine):\n",
    "    # Convert Dask DataFrame to Pandas DataFrame\n",
    "    df_pd = df.compute()  # This computes the Dask DataFrame into a Pandas DataFrame\n",
    "    df_pd.to_sql(table_name, con=engine, if_exists='replace', index=False)\n",
    "\n",
    "# Define a function to read the JSON file in chunks\n",
    "def load_json_to_dask_dataframe(file_path):\n",
    "    return dd.read_json(file_path, lines=True, blocksize='64MB')  # Adjust blocksize as needed\n",
    "\n",
    "# Load JSON files as Dask DataFrames\n",
    "business_df = load_json_to_dask_dataframe('yelp_academic_dataset_business.json')\n",
    "checkin_df = load_json_to_dask_dataframe('yelp_academic_dataset_checkin.json')\n",
    "review_df = load_json_to_dask_dataframe('yelp_academic_dataset_review.json')\n",
    "tip_df = load_json_to_dask_dataframe('yelp_academic_dataset_tip.json')\n",
    "user_df = load_json_to_dask_dataframe('yelp_academic_dataset_user.json')\n",
    "\n",
    "# Load each DataFrame into a separate table\n",
    "load_dataframe(business_df, 'business', engine)\n",
    "load_dataframe(checkin_df, 'checkin', engine)\n",
    "load_dataframe(review_df, 'review', engine)\n",
    "load_dataframe(tip_df, 'tip', engine)\n",
    "load_dataframe(user_df, 'user', engine)\n"
   ]
  },
  {
   "cell_type": "code",
   "execution_count": null,
   "id": "b3036672-2d01-4367-b964-74cb91df51cd",
   "metadata": {},
   "outputs": [],
   "source": []
  }
 ],
 "metadata": {
  "kernelspec": {
   "display_name": "Python 3 (ipykernel)",
   "language": "python",
   "name": "python3"
  },
  "language_info": {
   "codemirror_mode": {
    "name": "ipython",
    "version": 3
   },
   "file_extension": ".py",
   "mimetype": "text/x-python",
   "name": "python",
   "nbconvert_exporter": "python",
   "pygments_lexer": "ipython3",
   "version": "3.12.4"
  }
 },
 "nbformat": 4,
 "nbformat_minor": 5
}
